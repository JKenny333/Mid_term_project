{
 "cells": [
  {
   "cell_type": "markdown",
   "id": "005060b4",
   "metadata": {},
   "source": [
    "==============================================================================================================="
   ]
  },
  {
   "cell_type": "markdown",
   "id": "3c6001f2",
   "metadata": {},
   "source": [
    "<div style=\"margin-left: -60px;\">\n",
    "    <img src=\"../images/logos/vinometrics_logo.jpg\" width=\"300\" height=\"200\" />\n",
    "</div>\n"
   ]
  },
  {
   "cell_type": "markdown",
   "id": "c3be037a",
   "metadata": {},
   "source": [
    "<div style=\"text-align: center;\">\n",
    "    <h1 style=\"font-size: 32px; color: #2E86C1;\">Wine Quality Predictor</h1>\n",
    "</div>\n"
   ]
  },
  {
   "cell_type": "markdown",
   "id": "73375594",
   "metadata": {},
   "source": [
    "===============================================================================================================\n",
    "\n",
    "To predict wine quality, run the function below:"
   ]
  },
  {
   "cell_type": "code",
   "execution_count": 7,
   "id": "9fa065bc",
   "metadata": {
    "scrolled": false
   },
   "outputs": [
    {
     "name": "stdout",
     "output_type": "stream",
     "text": [
      "Enter value for fixed_acidity (g/L, Scale: 0-20): 6.2\n",
      "Enter value for volatile_acidity (g/L, Scale: 0-2): 0.22\n",
      "Enter value for citric_acid (g/L, Scale: 0-1): 0.3\n",
      "Enter value for residual_sugar (g/L, Scale: 0-200): 12.4\n",
      "Enter value for chlorides (g/L, Scale: 0-0.2): 0.054\n",
      "Enter value for total_sulfur_dioxide (ppm, Scale: 0-300): 152\n",
      "Enter value for density (g/mL, Scale: 0.98-1.04): 0.99728\n",
      "Enter value for pH (pH scale, Scale: 2.8-4.0): 3.1\n",
      "Enter value for sulphates (g/L, Scale: 0-2): 0.47\n",
      "Enter value for alcohol (% ABV, Scale: 5-15): 9.5\n",
      "Predicted wine quality: 5.5\n"
     ]
    }
   ],
   "source": [
    "predict_wine_quality(trained_wine_model, preprocessing_pipeline)"
   ]
  },
  {
   "cell_type": "markdown",
   "id": "3d3ea935",
   "metadata": {},
   "source": [
    "==============================================================================================================="
   ]
  },
  {
   "cell_type": "markdown",
   "id": "ba973786",
   "metadata": {},
   "source": [
    "#### Sample data"
   ]
  },
  {
   "cell_type": "code",
   "execution_count": null,
   "id": "6c38e0d4",
   "metadata": {},
   "outputs": [],
   "source": [
    "      fixed_acidity  volatile_acidity  citric_acid  residual_sugar  chlorides  \\\n",
    "            6.2              0.22          0.3            12.4      0.054   \n",
    "\n",
    "      free_sulfur_dioxide  total_sulfur_dioxide  density   pH  sulphates  \\\n",
    "                108.0                 152.0  0.99728  3.1       0.47   \n",
    "\n",
    "      alcohol  quality  \n",
    "     9.5        6  "
   ]
  },
  {
   "cell_type": "code",
   "execution_count": 4,
   "id": "0169eb38",
   "metadata": {},
   "outputs": [
    {
     "data": {
      "text/html": [
       "<div>\n",
       "<style scoped>\n",
       "    .dataframe tbody tr th:only-of-type {\n",
       "        vertical-align: middle;\n",
       "    }\n",
       "\n",
       "    .dataframe tbody tr th {\n",
       "        vertical-align: top;\n",
       "    }\n",
       "\n",
       "    .dataframe thead th {\n",
       "        text-align: right;\n",
       "    }\n",
       "</style>\n",
       "<table border=\"1\" class=\"dataframe\">\n",
       "  <thead>\n",
       "    <tr style=\"text-align: right;\">\n",
       "      <th></th>\n",
       "      <th>fixed_acidity</th>\n",
       "      <th>volatile_acidity</th>\n",
       "      <th>citric_acid</th>\n",
       "      <th>residual_sugar</th>\n",
       "      <th>chlorides</th>\n",
       "      <th>total_sulfur_dioxide</th>\n",
       "      <th>density</th>\n",
       "      <th>pH</th>\n",
       "      <th>sulphates</th>\n",
       "      <th>alcohol</th>\n",
       "    </tr>\n",
       "  </thead>\n",
       "  <tbody>\n",
       "    <tr>\n",
       "      <th>51</th>\n",
       "      <td>7.7</td>\n",
       "      <td>0.620</td>\n",
       "      <td>0.04</td>\n",
       "      <td>3.8</td>\n",
       "      <td>0.084</td>\n",
       "      <td>45.0</td>\n",
       "      <td>0.99780</td>\n",
       "      <td>3.34</td>\n",
       "      <td>0.53</td>\n",
       "      <td>9.5</td>\n",
       "    </tr>\n",
       "    <tr>\n",
       "      <th>1100</th>\n",
       "      <td>8.2</td>\n",
       "      <td>0.635</td>\n",
       "      <td>0.10</td>\n",
       "      <td>2.1</td>\n",
       "      <td>0.073</td>\n",
       "      <td>60.0</td>\n",
       "      <td>0.99638</td>\n",
       "      <td>3.29</td>\n",
       "      <td>0.75</td>\n",
       "      <td>10.9</td>\n",
       "    </tr>\n",
       "    <tr>\n",
       "      <th>1312</th>\n",
       "      <td>8.4</td>\n",
       "      <td>0.370</td>\n",
       "      <td>0.43</td>\n",
       "      <td>2.3</td>\n",
       "      <td>0.063</td>\n",
       "      <td>19.0</td>\n",
       "      <td>0.99550</td>\n",
       "      <td>3.17</td>\n",
       "      <td>0.81</td>\n",
       "      <td>11.2</td>\n",
       "    </tr>\n",
       "    <tr>\n",
       "      <th>514</th>\n",
       "      <td>9.9</td>\n",
       "      <td>0.490</td>\n",
       "      <td>0.58</td>\n",
       "      <td>3.5</td>\n",
       "      <td>0.094</td>\n",
       "      <td>43.0</td>\n",
       "      <td>1.00040</td>\n",
       "      <td>3.29</td>\n",
       "      <td>0.58</td>\n",
       "      <td>9.0</td>\n",
       "    </tr>\n",
       "    <tr>\n",
       "      <th>1074</th>\n",
       "      <td>6.3</td>\n",
       "      <td>1.020</td>\n",
       "      <td>0.00</td>\n",
       "      <td>2.0</td>\n",
       "      <td>0.083</td>\n",
       "      <td>24.0</td>\n",
       "      <td>0.99437</td>\n",
       "      <td>3.59</td>\n",
       "      <td>0.55</td>\n",
       "      <td>11.2</td>\n",
       "    </tr>\n",
       "  </tbody>\n",
       "</table>\n",
       "</div>"
      ],
      "text/plain": [
       "      fixed_acidity  volatile_acidity  citric_acid  residual_sugar  chlorides  \\\n",
       "51              7.7             0.620         0.04             3.8      0.084   \n",
       "1100            8.2             0.635         0.10             2.1      0.073   \n",
       "1312            8.4             0.370         0.43             2.3      0.063   \n",
       "514             9.9             0.490         0.58             3.5      0.094   \n",
       "1074            6.3             1.020         0.00             2.0      0.083   \n",
       "\n",
       "      total_sulfur_dioxide  density    pH  sulphates  alcohol  \n",
       "51                    45.0  0.99780  3.34       0.53      9.5  \n",
       "1100                  60.0  0.99638  3.29       0.75     10.9  \n",
       "1312                  19.0  0.99550  3.17       0.81     11.2  \n",
       "514                   43.0  1.00040  3.29       0.58      9.0  \n",
       "1074                  24.0  0.99437  3.59       0.55     11.2  "
      ]
     },
     "execution_count": 4,
     "metadata": {},
     "output_type": "execute_result"
    }
   ],
   "source": [
    " X_test.head()"
   ]
  },
  {
   "cell_type": "code",
   "execution_count": 6,
   "id": "73e1f633",
   "metadata": {},
   "outputs": [
    {
     "data": {
      "text/html": [
       "<div>\n",
       "<style scoped>\n",
       "    .dataframe tbody tr th:only-of-type {\n",
       "        vertical-align: middle;\n",
       "    }\n",
       "\n",
       "    .dataframe tbody tr th {\n",
       "        vertical-align: top;\n",
       "    }\n",
       "\n",
       "    .dataframe thead th {\n",
       "        text-align: right;\n",
       "    }\n",
       "</style>\n",
       "<table border=\"1\" class=\"dataframe\">\n",
       "  <thead>\n",
       "    <tr style=\"text-align: right;\">\n",
       "      <th></th>\n",
       "      <th>quality</th>\n",
       "    </tr>\n",
       "  </thead>\n",
       "  <tbody>\n",
       "    <tr>\n",
       "      <th>51</th>\n",
       "      <td>5</td>\n",
       "    </tr>\n",
       "    <tr>\n",
       "      <th>1100</th>\n",
       "      <td>6</td>\n",
       "    </tr>\n",
       "    <tr>\n",
       "      <th>1312</th>\n",
       "      <td>7</td>\n",
       "    </tr>\n",
       "    <tr>\n",
       "      <th>514</th>\n",
       "      <td>5</td>\n",
       "    </tr>\n",
       "    <tr>\n",
       "      <th>1074</th>\n",
       "      <td>4</td>\n",
       "    </tr>\n",
       "  </tbody>\n",
       "</table>\n",
       "</div>"
      ],
      "text/plain": [
       "      quality\n",
       "51          5\n",
       "1100        6\n",
       "1312        7\n",
       "514         5\n",
       "1074        4"
      ]
     },
     "execution_count": 6,
     "metadata": {},
     "output_type": "execute_result"
    }
   ],
   "source": [
    "y_test.head()"
   ]
  },
  {
   "cell_type": "markdown",
   "id": "3f03bd41",
   "metadata": {},
   "source": [
    "===============================================================================================================\n",
    "<br><br><br><br><br><br><br><br><br><br><br><br><br><br><br><br><br><br> <!-- This will add three lines of space -->\n",
    "\n",
    "===============================================================================================================\n",
    "### Set up (run first)"
   ]
  },
  {
   "cell_type": "markdown",
   "id": "58e87ed7",
   "metadata": {},
   "source": [
    "#### Importing Functions and Libraries"
   ]
  },
  {
   "cell_type": "code",
   "execution_count": 1,
   "id": "c2b1e523",
   "metadata": {},
   "outputs": [],
   "source": [
    "import pandas as pd\n",
    "import numpy as np\n",
    "from joblib import load\n",
    "from sklearn.model_selection import train_test_split\n",
    "import importlib\n",
    "\n",
    "#Importing our own functions from our repo\n",
    "import functions\n",
    "importlib.reload(functions)\n",
    "\n",
    "from functions import handle_outliers, apply_outlier_thresholds, predict_wine_quality"
   ]
  },
  {
   "cell_type": "markdown",
   "id": "bd3f9c68",
   "metadata": {},
   "source": [
    "#### Importing model and preprocessing pipeline"
   ]
  },
  {
   "cell_type": "code",
   "execution_count": 2,
   "id": "2ad58cdf",
   "metadata": {},
   "outputs": [],
   "source": [
    "# Loading the model from the repo\n",
    "trained_wine_model = load('wine_quality_predictor_model.joblib')\n",
    "# Loading the preprocessing pipeline from the repo\n",
    "preprocessing_pipeline = load('preprocessing_pipeline.joblib')"
   ]
  },
  {
   "cell_type": "markdown",
   "id": "57a52ae9",
   "metadata": {},
   "source": [
    "#### Importing test data"
   ]
  },
  {
   "cell_type": "code",
   "execution_count": 8,
   "id": "09a8228d",
   "metadata": {},
   "outputs": [],
   "source": [
    "red_file_path = '../data/cleaned/winequality_red_cleaned.csv'\n",
    "white_file_path = '../data/cleaned/winequality_white_cleaned.csv'\n",
    "red_df = pd.read_csv(red_file_path, index_col=0)\n",
    "white_df = pd.read_csv(white_file_path, index_col=0)\n",
    "X = red_df.drop(['quality', 'free_sulfur_dioxide'], axis=1)\n",
    "y = pd.DataFrame(red_df[\"quality\"])\n",
    "X_train, X_test, y_train, y_test = train_test_split(X,y, random_state = 42)"
   ]
  },
  {
   "cell_type": "markdown",
   "id": "bf18a458",
   "metadata": {},
   "source": [
    "## Identifying Casal Garcia Vinho Verde in anonymous dataset"
   ]
  },
  {
   "cell_type": "markdown",
   "id": "1635dd39",
   "metadata": {},
   "source": [
    "###  Casal Garcia Vinho Verde"
   ]
  },
  {
   "cell_type": "markdown",
   "id": "a1e319a2",
   "metadata": {},
   "source": [
    "#### Known information"
   ]
  },
  {
   "cell_type": "markdown",
   "id": "427da125",
   "metadata": {},
   "source": [
    "Sourced Casal Garcia Vinho Verde information from https://www.vinello.de/en/vinho-verde-casal-garcia\n",
    "\n",
    "Wine acidity in g/l: 6.2\n",
    "\n",
    "Residual sugar (approx.) in g/l: 12.4\n",
    "\n",
    "Alcohol % ABV: 9.5"
   ]
  },
  {
   "cell_type": "code",
   "execution_count": 10,
   "id": "ce3e3e05",
   "metadata": {},
   "outputs": [
    {
     "data": {
      "text/html": [
       "<div>\n",
       "<style scoped>\n",
       "    .dataframe tbody tr th:only-of-type {\n",
       "        vertical-align: middle;\n",
       "    }\n",
       "\n",
       "    .dataframe tbody tr th {\n",
       "        vertical-align: top;\n",
       "    }\n",
       "\n",
       "    .dataframe thead th {\n",
       "        text-align: right;\n",
       "    }\n",
       "</style>\n",
       "<table border=\"1\" class=\"dataframe\">\n",
       "  <thead>\n",
       "    <tr style=\"text-align: right;\">\n",
       "      <th></th>\n",
       "      <th>fixed_acidity</th>\n",
       "      <th>volatile_acidity</th>\n",
       "      <th>citric_acid</th>\n",
       "      <th>residual_sugar</th>\n",
       "      <th>chlorides</th>\n",
       "      <th>free_sulfur_dioxide</th>\n",
       "      <th>total_sulfur_dioxide</th>\n",
       "      <th>density</th>\n",
       "      <th>pH</th>\n",
       "      <th>sulphates</th>\n",
       "      <th>alcohol</th>\n",
       "      <th>quality</th>\n",
       "    </tr>\n",
       "  </thead>\n",
       "  <tbody>\n",
       "    <tr>\n",
       "      <th>3131</th>\n",
       "      <td>6.2</td>\n",
       "      <td>0.22</td>\n",
       "      <td>0.3</td>\n",
       "      <td>12.4</td>\n",
       "      <td>0.054</td>\n",
       "      <td>108.0</td>\n",
       "      <td>152.0</td>\n",
       "      <td>0.99728</td>\n",
       "      <td>3.1</td>\n",
       "      <td>0.47</td>\n",
       "      <td>9.5</td>\n",
       "      <td>6</td>\n",
       "    </tr>\n",
       "  </tbody>\n",
       "</table>\n",
       "</div>"
      ],
      "text/plain": [
       "      fixed_acidity  volatile_acidity  citric_acid  residual_sugar  chlorides  \\\n",
       "3131            6.2              0.22          0.3            12.4      0.054   \n",
       "\n",
       "      free_sulfur_dioxide  total_sulfur_dioxide  density   pH  sulphates  \\\n",
       "3131                108.0                 152.0  0.99728  3.1       0.47   \n",
       "\n",
       "      alcohol  quality  \n",
       "3131      9.5        6  "
      ]
     },
     "execution_count": 10,
     "metadata": {},
     "output_type": "execute_result"
    }
   ],
   "source": [
    "#Identification of Casal Garcia Vinho Verde through filtering anonymous dataset with known feature values\n",
    "alcohol_filtered_df = white_df[white_df['alcohol'] == 9.5]\n",
    "sugar_filtered_df = alcohol_filtered_df[alcohol_filtered_df['residual_sugar'] == 12.4]\n",
    "acidity_filtered_df = sugar_filtered_df[sugar_filtered_df['fixed_acidity'] == 6.2]\n",
    "acidity_filtered_df"
   ]
  },
  {
   "cell_type": "code",
   "execution_count": null,
   "id": "11303b70",
   "metadata": {},
   "outputs": [],
   "source": [
    "#Identification of Culura Vini Vinho Verde through filtering anonymous dataset with known feature values\n",
    "alcohol_filtered_df = white_df[white_df['alcohol'] == 9.5]\n",
    "sugar_filtered_df = alcohol_filtered_df[alcohol_filtered_df['residual_sugar'] == 12.4]\n",
    "acidity_filtered_df = sugar_filtered_df[sugar_filtered_df['fixed_acidity'] == 6.2]\n",
    "acidity_filtered_df"
   ]
  }
 ],
 "metadata": {
  "kernelspec": {
   "display_name": "Python 3 (ipykernel)",
   "language": "python",
   "name": "python3"
  },
  "language_info": {
   "codemirror_mode": {
    "name": "ipython",
    "version": 3
   },
   "file_extension": ".py",
   "mimetype": "text/x-python",
   "name": "python",
   "nbconvert_exporter": "python",
   "pygments_lexer": "ipython3",
   "version": "3.11.5"
  }
 },
 "nbformat": 4,
 "nbformat_minor": 5
}
