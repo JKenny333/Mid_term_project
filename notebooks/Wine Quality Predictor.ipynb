{
 "cells": [
  {
   "cell_type": "markdown",
   "id": "c3be037a",
   "metadata": {},
   "source": [
    "# Wine Quality Predictor"
   ]
  },
  {
   "cell_type": "markdown",
   "id": "a3201f77",
   "metadata": {},
   "source": [
    "<img src=\"../images/logos/vinometrics_logo.csv\" width=\"300\" height=\"200\" />"
   ]
  },
  {
   "cell_type": "markdown",
   "id": "58e87ed7",
   "metadata": {},
   "source": [
    "## Importing Functions and Libraries"
   ]
  },
  {
   "cell_type": "code",
   "execution_count": 1,
   "id": "c2b1e523",
   "metadata": {},
   "outputs": [],
   "source": [
    "import pandas as pd\n",
    "import numpy as np\n",
    "from joblib import load\n",
    "\n",
    "#Importing our own functions from our repo\n",
    "from functions import handle_outliers, apply_outlier_thresholds"
   ]
  },
  {
   "cell_type": "code",
   "execution_count": 2,
   "id": "2ad58cdf",
   "metadata": {},
   "outputs": [],
   "source": [
    "# Loading the model from the file\n",
    "trained_wine_model = load('wine_quality_predictor_model.joblib')\n",
    "# Loading the preprocessing pipeline from the file\n",
    "preprocessing_pipeline = load('preprocessing_pipeline.joblib')"
   ]
  },
  {
   "cell_type": "code",
   "execution_count": null,
   "id": "09a8228d",
   "metadata": {},
   "outputs": [],
   "source": [
    "red_file_path = '../data/cleaned/winequality_red_cleaned.csv'\n",
    "red_df = pd.read_csv(red_file_path, index_col=0)\n",
    "X = red_df.drop(['quality', 'free_sulfur_dioxide'], axis=1)\n",
    "y = pd.DataFrame(red_df[\"quality\"])\n",
    "X_train, X_test, y_train, y_test = train_test_split(X,y, random_state = 42)"
   ]
  },
  {
   "cell_type": "code",
   "execution_count": 5,
   "id": "9d385b93",
   "metadata": {},
   "outputs": [],
   "source": [
    "def predict_wine_quality(model, preprocessing_pipeline):\n",
    "    \"\"\"\n",
    "    Prompts the user for input values for each feature, preprocesses the input, and predicts wine quality.\n",
    "\n",
    "    Parameters:\n",
    "    - features: List of feature names used in the model.\n",
    "    - model: Trained model for predicting wine quality.\n",
    "    - preprocessing_pipeline: Pipeline for preprocessing the input features.\n",
    "\n",
    "    Returns:\n",
    "    - Prints the predicted wine quality.\n",
    "    \"\"\"\n",
    "    # Initialize an empty dictionary to store user inputs\n",
    "    user_input = {}\n",
    "    \n",
    "    # List of feature names used in the model\n",
    "    features = ['fixed_acidity', 'volatile_acidity', 'citric_acid', 'residual_sugar',\n",
    "       'chlorides', 'total_sulfur_dioxide', 'density',\n",
    "       'pH', 'sulphates', 'alcohol']\n",
    "\n",
    "    # Iterate over each feature and prompt the user for input\n",
    "    for feature in features:\n",
    "        # Assuming all inputs should be treated as floats\n",
    "        user_input[feature] = float(input(f\"Enter value for {feature}: \"))\n",
    "\n",
    "    # Convert the user inputs into a DataFrame to feed into the preprocessing pipeline and model\n",
    "    input_df = pd.DataFrame([user_input])\n",
    "\n",
    "    # Apply preprocessing to the input data\n",
    "    processed_input = preprocessing_pipeline.transform(input_df)\n",
    "\n",
    "    # Use the trained model to make a prediction\n",
    "    prediction_array = model.predict(processed_input)\n",
    "    prediction_output = round(float(prediction_array[0]), 1)\n",
    "\n",
    "    # Print the predicted wine quality\n",
    "    print(f\"Predicted wine quality: {prediction_output}\")\n",
    "\n",
    "# List of features used in your model\n",
    "features = [\n",
    "    'fixed_acidity', 'volatile_acidity', 'citric_acid', 'residual_sugar',\n",
    "    'chlorides', 'total_sulfur_dioxide', 'density', 'pH', 'sulphates', 'alcohol'\n",
    "]"
   ]
  },
  {
   "cell_type": "code",
   "execution_count": null,
   "id": "9fa065bc",
   "metadata": {},
   "outputs": [],
   "source": [
    "predict_wine_quality(trained_wine_model, preprocessing_pipeline)"
   ]
  },
  {
   "cell_type": "raw",
   "id": "5a804a14",
   "metadata": {},
   "source": [
    "fixed_acidity  volatile_acidity  citric_acid  residual_sugar  chlorides  \\\n",
    "0            7.4              0.70         0.00             1.9      0.076   \n",
    "1            7.8              0.88         0.00             2.6      0.098   \n",
    "2            7.8              0.76         0.04             2.3      0.092   \n",
    "3           11.2              0.28         0.56             1.9      0.075   \n",
    "4            7.4              0.66         0.00             1.8      0.075   \n",
    "\n",
    "   free_sulfur_dioxide  total_sulfur_dioxide  density    pH  sulphates  \\\n",
    "0                 11.0                  34.0   0.9978  3.51       0.56   \n",
    "1                 25.0                  67.0   0.9968  3.20       0.68   \n",
    "2                 15.0                  54.0   0.9970  3.26       0.65   \n",
    "3                 17.0                  60.0   0.9980  3.16       0.58   \n",
    "4                 13.0                  40.0   0.9978  3.51       0.56   \n",
    "\n",
    "   alcohol  quality  \n",
    "0      9.4        5  \n",
    "1      9.8        5  \n",
    "2      9.8        5  \n",
    "3      9.8        6  \n",
    "4      9.4        5  "
   ]
  },
  {
   "cell_type": "code",
   "execution_count": null,
   "id": "04027c58",
   "metadata": {},
   "outputs": [],
   "source": [
    "# Create a NumPy array\n",
    "arr = np.array([1.5, 2.5, 3.5])\n",
    "\n",
    "# Access a single element from the array (e.g., the first element)\n",
    "element = arr[0]\n",
    "element"
   ]
  },
  {
   "cell_type": "code",
   "execution_count": null,
   "id": "5d2a3716",
   "metadata": {},
   "outputs": [],
   "source": [
    "\n",
    "# Convert the NumPy float to a standard Python float (usually not necessary)\n",
    "python_float = float(element)\n",
    "\n",
    "print(python_float)  # Output: 1.5\n",
    "print(type(python_float))  # Output: <class 'float'>"
   ]
  }
 ],
 "metadata": {
  "kernelspec": {
   "display_name": "Python 3 (ipykernel)",
   "language": "python",
   "name": "python3"
  },
  "language_info": {
   "codemirror_mode": {
    "name": "ipython",
    "version": 3
   },
   "file_extension": ".py",
   "mimetype": "text/x-python",
   "name": "python",
   "nbconvert_exporter": "python",
   "pygments_lexer": "ipython3",
   "version": "3.11.5"
  }
 },
 "nbformat": 4,
 "nbformat_minor": 5
}
