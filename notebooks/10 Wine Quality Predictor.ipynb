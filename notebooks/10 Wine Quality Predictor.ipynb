{
 "cells": [
  {
   "cell_type": "markdown",
   "id": "bbe86087",
   "metadata": {},
   "source": [
    "==============================================================================================================="
   ]
  },
  {
   "cell_type": "markdown",
   "id": "71084684",
   "metadata": {},
   "source": [
    "<div style=\"margin-left: -60px;\">\n",
    "    <img src=\"../images/logos/vinometrics_logo.jpg\" width=\"300\" height=\"200\" />\n",
    "</div>\n"
   ]
  },
  {
   "cell_type": "markdown",
   "id": "66d8599f",
   "metadata": {},
   "source": [
    "<div style=\"text-align: center;\">\n",
    "    <h1 style=\"font-size: 32px; color: #2E86C1;\">Wine Quality Predictor</h1>\n",
    "</div>\n"
   ]
  },
  {
   "cell_type": "markdown",
   "id": "f3346229",
   "metadata": {},
   "source": [
    "===============================================================================================================\n",
    "\n",
    "To predict wine quality, run the function below:"
   ]
  },
  {
   "cell_type": "code",
   "execution_count": 7,
   "id": "f2217f19",
   "metadata": {
    "scrolled": false
   },
   "outputs": [
    {
     "name": "stdout",
     "output_type": "stream",
     "text": [
      "Enter value for fixed_acidity (g/L, Scale: 0-20): 6.2\n",
      "Enter value for volatile_acidity (g/L, Scale: 0-2): 0.22\n",
      "Enter value for citric_acid (g/L, Scale: 0-1): 0.3\n",
      "Enter value for residual_sugar (g/L, Scale: 0-200): 12.4\n",
      "Enter value for chlorides (g/L, Scale: 0-0.2): 0.054\n",
      "Enter value for total_sulfur_dioxide (ppm, Scale: 0-300): 152\n",
      "Enter value for density (g/mL, Scale: 0.98-1.04): 0.99728\n",
      "Enter value for pH (pH scale, Scale: 2.8-4.0): 3.1\n",
      "Enter value for sulphates (g/L, Scale: 0-2): 0.47\n",
      "Enter value for alcohol (% ABV, Scale: 5-15): 9.5\n",
      "Predicted wine quality: 5.6\n"
     ]
    }
   ],
   "source": [
    "predict_wine_quality(trained_wine_model, preprocessing_pipeline)"
   ]
  },
  {
   "cell_type": "markdown",
   "id": "19747195",
   "metadata": {},
   "source": [
    "==============================================================================================================="
   ]
  },
  {
   "cell_type": "markdown",
   "id": "30d6d4ca",
   "metadata": {},
   "source": [
    "###  Casal Garcia Vinho Verde feature values"
   ]
  },
  {
   "cell_type": "code",
   "execution_count": 5,
   "id": "5f1059b4",
   "metadata": {},
   "outputs": [
    {
     "data": {
      "text/html": [
       "<div>\n",
       "<style scoped>\n",
       "    .dataframe tbody tr th:only-of-type {\n",
       "        vertical-align: middle;\n",
       "    }\n",
       "\n",
       "    .dataframe tbody tr th {\n",
       "        vertical-align: top;\n",
       "    }\n",
       "\n",
       "    .dataframe thead th {\n",
       "        text-align: right;\n",
       "    }\n",
       "</style>\n",
       "<table border=\"1\" class=\"dataframe\">\n",
       "  <thead>\n",
       "    <tr style=\"text-align: right;\">\n",
       "      <th></th>\n",
       "      <th>fixed_acidity</th>\n",
       "      <th>volatile_acidity</th>\n",
       "      <th>citric_acid</th>\n",
       "      <th>residual_sugar</th>\n",
       "      <th>chlorides</th>\n",
       "      <th>total_sulfur_dioxide</th>\n",
       "      <th>density</th>\n",
       "      <th>pH</th>\n",
       "      <th>sulphates</th>\n",
       "      <th>alcohol</th>\n",
       "    </tr>\n",
       "  </thead>\n",
       "  <tbody>\n",
       "    <tr>\n",
       "      <th>3131</th>\n",
       "      <td>6.2</td>\n",
       "      <td>0.22</td>\n",
       "      <td>0.3</td>\n",
       "      <td>12.4</td>\n",
       "      <td>0.054</td>\n",
       "      <td>152.0</td>\n",
       "      <td>0.99728</td>\n",
       "      <td>3.1</td>\n",
       "      <td>0.47</td>\n",
       "      <td>9.5</td>\n",
       "    </tr>\n",
       "  </tbody>\n",
       "</table>\n",
       "</div>"
      ],
      "text/plain": [
       "      fixed_acidity  volatile_acidity  citric_acid  residual_sugar  chlorides  \\\n",
       "3131            6.2              0.22          0.3            12.4      0.054   \n",
       "\n",
       "      total_sulfur_dioxide  density   pH  sulphates  alcohol  \n",
       "3131                 152.0  0.99728  3.1       0.47      9.5  "
      ]
     },
     "execution_count": 5,
     "metadata": {},
     "output_type": "execute_result"
    }
   ],
   "source": [
    "casal_garcia_white_x"
   ]
  },
  {
   "cell_type": "markdown",
   "id": "dde04dbf",
   "metadata": {},
   "source": [
    "### Expert quality rating"
   ]
  },
  {
   "cell_type": "code",
   "execution_count": 8,
   "id": "5039c78f",
   "metadata": {
    "scrolled": false
   },
   "outputs": [
    {
     "data": {
      "text/html": [
       "<div>\n",
       "<style scoped>\n",
       "    .dataframe tbody tr th:only-of-type {\n",
       "        vertical-align: middle;\n",
       "    }\n",
       "\n",
       "    .dataframe tbody tr th {\n",
       "        vertical-align: top;\n",
       "    }\n",
       "\n",
       "    .dataframe thead th {\n",
       "        text-align: right;\n",
       "    }\n",
       "</style>\n",
       "<table border=\"1\" class=\"dataframe\">\n",
       "  <thead>\n",
       "    <tr style=\"text-align: right;\">\n",
       "      <th></th>\n",
       "      <th>quality</th>\n",
       "    </tr>\n",
       "  </thead>\n",
       "  <tbody>\n",
       "    <tr>\n",
       "      <th>3131</th>\n",
       "      <td>6</td>\n",
       "    </tr>\n",
       "  </tbody>\n",
       "</table>\n",
       "</div>"
      ],
      "text/plain": [
       "      quality\n",
       "3131        6"
      ]
     },
     "execution_count": 8,
     "metadata": {},
     "output_type": "execute_result"
    }
   ],
   "source": [
    "casal_garcia_white_y"
   ]
  },
  {
   "cell_type": "markdown",
   "id": "25916524",
   "metadata": {},
   "source": [
    "==============================================================================================================="
   ]
  },
  {
   "cell_type": "code",
   "execution_count": 6,
   "id": "2c85a4a0",
   "metadata": {},
   "outputs": [
    {
     "data": {
      "text/html": [
       "<div>\n",
       "<style scoped>\n",
       "    .dataframe tbody tr th:only-of-type {\n",
       "        vertical-align: middle;\n",
       "    }\n",
       "\n",
       "    .dataframe tbody tr th {\n",
       "        vertical-align: top;\n",
       "    }\n",
       "\n",
       "    .dataframe thead th {\n",
       "        text-align: right;\n",
       "    }\n",
       "</style>\n",
       "<table border=\"1\" class=\"dataframe\">\n",
       "  <thead>\n",
       "    <tr style=\"text-align: right;\">\n",
       "      <th></th>\n",
       "      <th>fixed_acidity</th>\n",
       "      <th>volatile_acidity</th>\n",
       "      <th>citric_acid</th>\n",
       "      <th>residual_sugar</th>\n",
       "      <th>chlorides</th>\n",
       "      <th>total_sulfur_dioxide</th>\n",
       "      <th>density</th>\n",
       "      <th>pH</th>\n",
       "      <th>sulphates</th>\n",
       "      <th>alcohol</th>\n",
       "    </tr>\n",
       "  </thead>\n",
       "  <tbody>\n",
       "    <tr>\n",
       "      <th>51</th>\n",
       "      <td>7.7</td>\n",
       "      <td>0.620</td>\n",
       "      <td>0.04</td>\n",
       "      <td>3.8</td>\n",
       "      <td>0.084</td>\n",
       "      <td>45.0</td>\n",
       "      <td>0.99780</td>\n",
       "      <td>3.34</td>\n",
       "      <td>0.53</td>\n",
       "      <td>9.500000</td>\n",
       "    </tr>\n",
       "    <tr>\n",
       "      <th>1100</th>\n",
       "      <td>8.2</td>\n",
       "      <td>0.635</td>\n",
       "      <td>0.10</td>\n",
       "      <td>2.1</td>\n",
       "      <td>0.073</td>\n",
       "      <td>60.0</td>\n",
       "      <td>0.99638</td>\n",
       "      <td>3.29</td>\n",
       "      <td>0.75</td>\n",
       "      <td>10.900000</td>\n",
       "    </tr>\n",
       "    <tr>\n",
       "      <th>1312</th>\n",
       "      <td>8.4</td>\n",
       "      <td>0.370</td>\n",
       "      <td>0.43</td>\n",
       "      <td>2.3</td>\n",
       "      <td>0.063</td>\n",
       "      <td>19.0</td>\n",
       "      <td>0.99550</td>\n",
       "      <td>3.17</td>\n",
       "      <td>0.81</td>\n",
       "      <td>11.200000</td>\n",
       "    </tr>\n",
       "    <tr>\n",
       "      <th>514</th>\n",
       "      <td>9.9</td>\n",
       "      <td>0.490</td>\n",
       "      <td>0.58</td>\n",
       "      <td>3.5</td>\n",
       "      <td>0.094</td>\n",
       "      <td>43.0</td>\n",
       "      <td>1.00040</td>\n",
       "      <td>3.29</td>\n",
       "      <td>0.58</td>\n",
       "      <td>9.000000</td>\n",
       "    </tr>\n",
       "    <tr>\n",
       "      <th>1074</th>\n",
       "      <td>6.3</td>\n",
       "      <td>1.020</td>\n",
       "      <td>0.00</td>\n",
       "      <td>2.0</td>\n",
       "      <td>0.083</td>\n",
       "      <td>24.0</td>\n",
       "      <td>0.99437</td>\n",
       "      <td>3.59</td>\n",
       "      <td>0.55</td>\n",
       "      <td>11.200000</td>\n",
       "    </tr>\n",
       "    <tr>\n",
       "      <th>...</th>\n",
       "      <td>...</td>\n",
       "      <td>...</td>\n",
       "      <td>...</td>\n",
       "      <td>...</td>\n",
       "      <td>...</td>\n",
       "      <td>...</td>\n",
       "      <td>...</td>\n",
       "      <td>...</td>\n",
       "      <td>...</td>\n",
       "      <td>...</td>\n",
       "    </tr>\n",
       "    <tr>\n",
       "      <th>96</th>\n",
       "      <td>7.8</td>\n",
       "      <td>0.410</td>\n",
       "      <td>0.68</td>\n",
       "      <td>1.7</td>\n",
       "      <td>0.467</td>\n",
       "      <td>69.0</td>\n",
       "      <td>0.99730</td>\n",
       "      <td>3.08</td>\n",
       "      <td>1.31</td>\n",
       "      <td>9.300000</td>\n",
       "    </tr>\n",
       "    <tr>\n",
       "      <th>906</th>\n",
       "      <td>8.2</td>\n",
       "      <td>0.740</td>\n",
       "      <td>0.09</td>\n",
       "      <td>2.0</td>\n",
       "      <td>0.067</td>\n",
       "      <td>10.0</td>\n",
       "      <td>0.99418</td>\n",
       "      <td>3.28</td>\n",
       "      <td>0.57</td>\n",
       "      <td>11.800000</td>\n",
       "    </tr>\n",
       "    <tr>\n",
       "      <th>1220</th>\n",
       "      <td>7.3</td>\n",
       "      <td>0.670</td>\n",
       "      <td>0.02</td>\n",
       "      <td>2.2</td>\n",
       "      <td>0.072</td>\n",
       "      <td>92.0</td>\n",
       "      <td>0.99566</td>\n",
       "      <td>3.32</td>\n",
       "      <td>0.68</td>\n",
       "      <td>11.066667</td>\n",
       "    </tr>\n",
       "    <tr>\n",
       "      <th>934</th>\n",
       "      <td>8.0</td>\n",
       "      <td>0.310</td>\n",
       "      <td>0.45</td>\n",
       "      <td>2.1</td>\n",
       "      <td>0.216</td>\n",
       "      <td>16.0</td>\n",
       "      <td>0.99358</td>\n",
       "      <td>3.15</td>\n",
       "      <td>0.81</td>\n",
       "      <td>12.500000</td>\n",
       "    </tr>\n",
       "    <tr>\n",
       "      <th>494</th>\n",
       "      <td>11.5</td>\n",
       "      <td>0.350</td>\n",
       "      <td>0.49</td>\n",
       "      <td>3.3</td>\n",
       "      <td>0.070</td>\n",
       "      <td>37.0</td>\n",
       "      <td>1.00030</td>\n",
       "      <td>3.32</td>\n",
       "      <td>0.91</td>\n",
       "      <td>11.000000</td>\n",
       "    </tr>\n",
       "  </tbody>\n",
       "</table>\n",
       "<p>340 rows × 10 columns</p>\n",
       "</div>"
      ],
      "text/plain": [
       "      fixed_acidity  volatile_acidity  citric_acid  residual_sugar  chlorides  \\\n",
       "51              7.7             0.620         0.04             3.8      0.084   \n",
       "1100            8.2             0.635         0.10             2.1      0.073   \n",
       "1312            8.4             0.370         0.43             2.3      0.063   \n",
       "514             9.9             0.490         0.58             3.5      0.094   \n",
       "1074            6.3             1.020         0.00             2.0      0.083   \n",
       "...             ...               ...          ...             ...        ...   \n",
       "96              7.8             0.410         0.68             1.7      0.467   \n",
       "906             8.2             0.740         0.09             2.0      0.067   \n",
       "1220            7.3             0.670         0.02             2.2      0.072   \n",
       "934             8.0             0.310         0.45             2.1      0.216   \n",
       "494            11.5             0.350         0.49             3.3      0.070   \n",
       "\n",
       "      total_sulfur_dioxide  density    pH  sulphates    alcohol  \n",
       "51                    45.0  0.99780  3.34       0.53   9.500000  \n",
       "1100                  60.0  0.99638  3.29       0.75  10.900000  \n",
       "1312                  19.0  0.99550  3.17       0.81  11.200000  \n",
       "514                   43.0  1.00040  3.29       0.58   9.000000  \n",
       "1074                  24.0  0.99437  3.59       0.55  11.200000  \n",
       "...                    ...      ...   ...        ...        ...  \n",
       "96                    69.0  0.99730  3.08       1.31   9.300000  \n",
       "906                   10.0  0.99418  3.28       0.57  11.800000  \n",
       "1220                  92.0  0.99566  3.32       0.68  11.066667  \n",
       "934                   16.0  0.99358  3.15       0.81  12.500000  \n",
       "494                   37.0  1.00030  3.32       0.91  11.000000  \n",
       "\n",
       "[340 rows x 10 columns]"
      ]
     },
     "execution_count": 6,
     "metadata": {},
     "output_type": "execute_result"
    }
   ],
   "source": [
    " X_test"
   ]
  },
  {
   "cell_type": "code",
   "execution_count": null,
   "id": "445c8d90",
   "metadata": {},
   "outputs": [],
   "source": [
    "y_test"
   ]
  },
  {
   "cell_type": "markdown",
   "id": "3f03bd41",
   "metadata": {},
   "source": [
    "### Set up (run first)"
   ]
  },
  {
   "cell_type": "markdown",
   "id": "58e87ed7",
   "metadata": {},
   "source": [
    "#### Importing Functions and Libraries"
   ]
  },
  {
   "cell_type": "code",
   "execution_count": 1,
   "id": "c2b1e523",
   "metadata": {},
   "outputs": [],
   "source": [
    "import pandas as pd\n",
    "import numpy as np\n",
    "from joblib import load\n",
    "from sklearn.model_selection import train_test_split\n",
    "import importlib\n",
    "\n",
    "#Importing our own functions from our repo\n",
    "import functions\n",
    "importlib.reload(functions)\n",
    "\n",
    "from functions import handle_outliers, apply_outlier_thresholds, predict_wine_quality"
   ]
  },
  {
   "cell_type": "markdown",
   "id": "bd3f9c68",
   "metadata": {},
   "source": [
    "#### Importing model and preprocessing pipeline"
   ]
  },
  {
   "cell_type": "code",
   "execution_count": 2,
   "id": "2ad58cdf",
   "metadata": {},
   "outputs": [],
   "source": [
    "# Loading the model from the repo\n",
    "trained_wine_model = load('wine_quality_predictor_model.joblib')\n",
    "# Loading the preprocessing pipeline from the repo\n",
    "preprocessing_pipeline = load('preprocessing_pipeline.joblib')"
   ]
  },
  {
   "cell_type": "markdown",
   "id": "57a52ae9",
   "metadata": {},
   "source": [
    "#### Importing test data"
   ]
  },
  {
   "cell_type": "code",
   "execution_count": 3,
   "id": "09a8228d",
   "metadata": {},
   "outputs": [],
   "source": [
    "red_file_path = '../data/cleaned/winequality_red_cleaned.csv'\n",
    "white_file_path = '../data/cleaned/winequality_white_cleaned.csv'\n",
    "red_df = pd.read_csv(red_file_path, index_col=0)\n",
    "white_df = pd.read_csv(white_file_path, index_col=0)\n",
    "X = red_df.drop(['quality', 'free_sulfur_dioxide'], axis=1)\n",
    "y = pd.DataFrame(red_df[\"quality\"])\n",
    "X_train, X_test, y_train, y_test = train_test_split(X,y, random_state = 42)"
   ]
  },
  {
   "cell_type": "markdown",
   "id": "6fc20ea5",
   "metadata": {},
   "source": [
    "==============================================================================================================="
   ]
  },
  {
   "cell_type": "markdown",
   "id": "bf18a458",
   "metadata": {},
   "source": [
    "## Identifying Casal Garcia Vinho Verde in anonymous dataset"
   ]
  },
  {
   "cell_type": "markdown",
   "id": "a64828c4",
   "metadata": {},
   "source": [
    "#### Known information"
   ]
  },
  {
   "cell_type": "markdown",
   "id": "e1c1a5cf",
   "metadata": {},
   "source": [
    "Sourced Casal Garcia Vinho Verde information from https://www.vinello.de/en/vinho-verde-casal-garcia\n",
    "\n",
    "Wine acidity in g/l: 6.2\n",
    "\n",
    "Residual sugar (approx.) in g/l: 12.4\n",
    "\n",
    "Alcohol % ABV: 9.5"
   ]
  },
  {
   "cell_type": "code",
   "execution_count": 4,
   "id": "3f7ebea3",
   "metadata": {},
   "outputs": [],
   "source": [
    "#Identification of Casal Garcia Vinho Verde through filtering anonymous dataset with known feature values\n",
    "w_alcohol_filtered_df = white_df[white_df['alcohol'] == 9.5]\n",
    "w_sugar_filtered_df = w_alcohol_filtered_df[w_alcohol_filtered_df['residual_sugar'] == 12.4]\n",
    "casal_garcia_white = w_sugar_filtered_df[w_sugar_filtered_df['fixed_acidity'] == 6.2]\n",
    "casal_garcia_white_x = casal_garcia_white.drop(['quality', 'free_sulfur_dioxide'], axis=1)\n",
    "casal_garcia_white_y = y = pd.DataFrame(casal_garcia_white[\"quality\"])\n",
    "expert_quality_score = casal_garcia_white_y.loc[3131, 'quality']"
   ]
  }
 ],
 "metadata": {
  "kernelspec": {
   "display_name": "Python 3 (ipykernel)",
   "language": "python",
   "name": "python3"
  },
  "language_info": {
   "codemirror_mode": {
    "name": "ipython",
    "version": 3
   },
   "file_extension": ".py",
   "mimetype": "text/x-python",
   "name": "python",
   "nbconvert_exporter": "python",
   "pygments_lexer": "ipython3",
   "version": "3.11.5"
  }
 },
 "nbformat": 4,
 "nbformat_minor": 5
}
