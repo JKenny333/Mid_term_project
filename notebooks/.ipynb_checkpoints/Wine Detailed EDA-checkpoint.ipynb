{
<<<<<<< Updated upstream
 "cells": [
  {
   "cell_type": "markdown",
   "id": "de04ecdd",
   "metadata": {},
   "source": [
    "# Detailed Exploratory Data Analysis"
   ]
  },
  {
   "cell_type": "markdown",
   "id": "51e80bbb",
   "metadata": {},
   "source": [
    "Note: This notebook continues on from the previous notebook titled \"Wine Data Cleaning and Initial EDA\""
   ]
  },
  {
   "cell_type": "markdown",
   "id": "8c78bf8f",
   "metadata": {},
   "source": [
    "### Importing libraries and datasets"
   ]
  },
  {
   "cell_type": "code",
   "execution_count": 1,
   "id": "bc29e585",
   "metadata": {},
   "outputs": [],
   "source": [
    "import pandas as pd\n",
    "import seaborn as sns\n",
    "import numpy as np\n",
    "import matplotlib.pyplot as plt\n",
    "import cleaning_functions as cf \n"
   ]
  },
  {
   "cell_type": "code",
   "execution_count": 2,
   "id": "099cc2ef",
   "metadata": {},
   "outputs": [],
   "source": [
    "# Relative path to the CSV files\n",
    "red_file_path = '../data/cleaned/winequality_red_cleaned.csv'  # Go up one level with '..', then into 'data/raw/'\n",
    "white_file_path = '../data/cleaned/winequality_white_cleaned.csv' \n",
    "red_df = pd.read_csv(red_file_path)\n",
    "white_df = pd.read_csv(white_file_path)"
   ]
  },
  {
   "cell_type": "markdown",
   "id": "c931e500",
   "metadata": {},
   "source": [
    "### Combining red and white dataframes"
   ]
  },
  {
   "cell_type": "code",
   "execution_count": null,
   "id": "2a4e4ecc",
   "metadata": {},
   "outputs": [],
   "source": [
    "combined_df = "
   ]
  }
 ],
 "metadata": {
  "kernelspec": {
   "display_name": "Python 3 (ipykernel)",
   "language": "python",
   "name": "python3"
  },
  "language_info": {
   "codemirror_mode": {
    "name": "ipython",
    "version": 3
   },
   "file_extension": ".py",
   "mimetype": "text/x-python",
   "name": "python",
   "nbconvert_exporter": "python",
   "pygments_lexer": "ipython3",
   "version": "3.11.5"
  }
 },
=======
 "cells": [],
 "metadata": {},
>>>>>>> Stashed changes
 "nbformat": 4,
 "nbformat_minor": 5
}
