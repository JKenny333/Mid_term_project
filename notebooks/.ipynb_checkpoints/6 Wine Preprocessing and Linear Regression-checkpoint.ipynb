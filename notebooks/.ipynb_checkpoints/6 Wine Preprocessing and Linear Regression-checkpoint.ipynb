{
 "cells": [
  {
   "cell_type": "markdown",
   "id": "946d8dde",
   "metadata": {},
   "source": [
    "# Preprocessing"
   ]
  },
  {
   "cell_type": "markdown",
   "id": "84cee95c",
   "metadata": {},
   "source": [
    "### Importing libraries and datasets"
   ]
  },
  {
   "cell_type": "code",
   "execution_count": 2,
   "id": "d81793f9",
   "metadata": {},
   "outputs": [],
   "source": [
    "import pandas as pd\n",
    "import seaborn as sns\n",
    "import numpy as np\n",
    "import matplotlib.pyplot as plt\n",
    "import functions as cf \n",
    "\n",
    "from sklearn.preprocessing import MinMaxScaler, StandardScaler, PowerTransformer, OneHotEncoder\n",
    "from sklearn.model_selection import train_test_split\n",
    "from sklearn.linear_model import LinearRegression\n",
    "from sklearn.metrics import mean_squared_error as mse, mean_absolute_error as mae, r2_score\n",
    "from sklearn.linear_model import SGDRegressor\n",
    "from sklearn.model_selection import cross_val_score\n",
    "import statsmodels.api as sm\n"
   ]
  },
  {
   "cell_type": "code",
   "execution_count": 3,
   "id": "d8758923",
   "metadata": {},
   "outputs": [
    {
     "data": {
      "text/html": [
       "<div>\n",
       "<style scoped>\n",
       "    .dataframe tbody tr th:only-of-type {\n",
       "        vertical-align: middle;\n",
       "    }\n",
       "\n",
       "    .dataframe tbody tr th {\n",
       "        vertical-align: top;\n",
       "    }\n",
       "\n",
       "    .dataframe thead th {\n",
       "        text-align: right;\n",
       "    }\n",
       "</style>\n",
       "<table border=\"1\" class=\"dataframe\">\n",
       "  <thead>\n",
       "    <tr style=\"text-align: right;\">\n",
       "      <th></th>\n",
       "      <th>fixed_acidity</th>\n",
       "      <th>volatile_acidity</th>\n",
       "      <th>citric_acid</th>\n",
       "      <th>residual_sugar</th>\n",
       "      <th>chlorides</th>\n",
       "      <th>free_sulfur_dioxide</th>\n",
       "      <th>total_sulfur_dioxide</th>\n",
       "      <th>density</th>\n",
       "      <th>pH</th>\n",
       "      <th>sulphates</th>\n",
       "      <th>alcohol</th>\n",
       "      <th>quality</th>\n",
       "    </tr>\n",
       "  </thead>\n",
       "  <tbody>\n",
       "    <tr>\n",
       "      <th>0</th>\n",
       "      <td>7.4</td>\n",
       "      <td>0.700</td>\n",
       "      <td>0.00</td>\n",
       "      <td>1.9</td>\n",
       "      <td>0.076</td>\n",
       "      <td>11.0</td>\n",
       "      <td>34.0</td>\n",
       "      <td>0.99780</td>\n",
       "      <td>3.51</td>\n",
       "      <td>0.56</td>\n",
       "      <td>9.4</td>\n",
       "      <td>5</td>\n",
       "    </tr>\n",
       "    <tr>\n",
       "      <th>1</th>\n",
       "      <td>7.8</td>\n",
       "      <td>0.880</td>\n",
       "      <td>0.00</td>\n",
       "      <td>2.6</td>\n",
       "      <td>0.098</td>\n",
       "      <td>25.0</td>\n",
       "      <td>67.0</td>\n",
       "      <td>0.99680</td>\n",
       "      <td>3.20</td>\n",
       "      <td>0.68</td>\n",
       "      <td>9.8</td>\n",
       "      <td>5</td>\n",
       "    </tr>\n",
       "    <tr>\n",
       "      <th>2</th>\n",
       "      <td>7.8</td>\n",
       "      <td>0.760</td>\n",
       "      <td>0.04</td>\n",
       "      <td>2.3</td>\n",
       "      <td>0.092</td>\n",
       "      <td>15.0</td>\n",
       "      <td>54.0</td>\n",
       "      <td>0.99700</td>\n",
       "      <td>3.26</td>\n",
       "      <td>0.65</td>\n",
       "      <td>9.8</td>\n",
       "      <td>5</td>\n",
       "    </tr>\n",
       "    <tr>\n",
       "      <th>3</th>\n",
       "      <td>11.2</td>\n",
       "      <td>0.280</td>\n",
       "      <td>0.56</td>\n",
       "      <td>1.9</td>\n",
       "      <td>0.075</td>\n",
       "      <td>17.0</td>\n",
       "      <td>60.0</td>\n",
       "      <td>0.99800</td>\n",
       "      <td>3.16</td>\n",
       "      <td>0.58</td>\n",
       "      <td>9.8</td>\n",
       "      <td>6</td>\n",
       "    </tr>\n",
       "    <tr>\n",
       "      <th>4</th>\n",
       "      <td>7.4</td>\n",
       "      <td>0.660</td>\n",
       "      <td>0.00</td>\n",
       "      <td>1.8</td>\n",
       "      <td>0.075</td>\n",
       "      <td>13.0</td>\n",
       "      <td>40.0</td>\n",
       "      <td>0.99780</td>\n",
       "      <td>3.51</td>\n",
       "      <td>0.56</td>\n",
       "      <td>9.4</td>\n",
       "      <td>5</td>\n",
       "    </tr>\n",
       "    <tr>\n",
       "      <th>...</th>\n",
       "      <td>...</td>\n",
       "      <td>...</td>\n",
       "      <td>...</td>\n",
       "      <td>...</td>\n",
       "      <td>...</td>\n",
       "      <td>...</td>\n",
       "      <td>...</td>\n",
       "      <td>...</td>\n",
       "      <td>...</td>\n",
       "      <td>...</td>\n",
       "      <td>...</td>\n",
       "      <td>...</td>\n",
       "    </tr>\n",
       "    <tr>\n",
       "      <th>1354</th>\n",
       "      <td>6.8</td>\n",
       "      <td>0.620</td>\n",
       "      <td>0.08</td>\n",
       "      <td>1.9</td>\n",
       "      <td>0.068</td>\n",
       "      <td>28.0</td>\n",
       "      <td>38.0</td>\n",
       "      <td>0.99651</td>\n",
       "      <td>3.42</td>\n",
       "      <td>0.82</td>\n",
       "      <td>9.5</td>\n",
       "      <td>6</td>\n",
       "    </tr>\n",
       "    <tr>\n",
       "      <th>1355</th>\n",
       "      <td>6.2</td>\n",
       "      <td>0.600</td>\n",
       "      <td>0.08</td>\n",
       "      <td>2.0</td>\n",
       "      <td>0.090</td>\n",
       "      <td>32.0</td>\n",
       "      <td>44.0</td>\n",
       "      <td>0.99490</td>\n",
       "      <td>3.45</td>\n",
       "      <td>0.58</td>\n",
       "      <td>10.5</td>\n",
       "      <td>5</td>\n",
       "    </tr>\n",
       "    <tr>\n",
       "      <th>1356</th>\n",
       "      <td>5.9</td>\n",
       "      <td>0.550</td>\n",
       "      <td>0.10</td>\n",
       "      <td>2.2</td>\n",
       "      <td>0.062</td>\n",
       "      <td>39.0</td>\n",
       "      <td>51.0</td>\n",
       "      <td>0.99512</td>\n",
       "      <td>3.52</td>\n",
       "      <td>0.76</td>\n",
       "      <td>11.2</td>\n",
       "      <td>6</td>\n",
       "    </tr>\n",
       "    <tr>\n",
       "      <th>1357</th>\n",
       "      <td>5.9</td>\n",
       "      <td>0.645</td>\n",
       "      <td>0.12</td>\n",
       "      <td>2.0</td>\n",
       "      <td>0.075</td>\n",
       "      <td>32.0</td>\n",
       "      <td>44.0</td>\n",
       "      <td>0.99547</td>\n",
       "      <td>3.57</td>\n",
       "      <td>0.71</td>\n",
       "      <td>10.2</td>\n",
       "      <td>5</td>\n",
       "    </tr>\n",
       "    <tr>\n",
       "      <th>1358</th>\n",
       "      <td>6.0</td>\n",
       "      <td>0.310</td>\n",
       "      <td>0.47</td>\n",
       "      <td>3.6</td>\n",
       "      <td>0.067</td>\n",
       "      <td>18.0</td>\n",
       "      <td>42.0</td>\n",
       "      <td>0.99549</td>\n",
       "      <td>3.39</td>\n",
       "      <td>0.66</td>\n",
       "      <td>11.0</td>\n",
       "      <td>6</td>\n",
       "    </tr>\n",
       "  </tbody>\n",
       "</table>\n",
       "<p>1359 rows × 12 columns</p>\n",
       "</div>"
      ],
      "text/plain": [
       "      fixed_acidity  volatile_acidity  citric_acid  residual_sugar  chlorides  \\\n",
       "0               7.4             0.700         0.00             1.9      0.076   \n",
       "1               7.8             0.880         0.00             2.6      0.098   \n",
       "2               7.8             0.760         0.04             2.3      0.092   \n",
       "3              11.2             0.280         0.56             1.9      0.075   \n",
       "4               7.4             0.660         0.00             1.8      0.075   \n",
       "...             ...               ...          ...             ...        ...   \n",
       "1354            6.8             0.620         0.08             1.9      0.068   \n",
       "1355            6.2             0.600         0.08             2.0      0.090   \n",
       "1356            5.9             0.550         0.10             2.2      0.062   \n",
       "1357            5.9             0.645         0.12             2.0      0.075   \n",
       "1358            6.0             0.310         0.47             3.6      0.067   \n",
       "\n",
       "      free_sulfur_dioxide  total_sulfur_dioxide  density    pH  sulphates  \\\n",
       "0                    11.0                  34.0  0.99780  3.51       0.56   \n",
       "1                    25.0                  67.0  0.99680  3.20       0.68   \n",
       "2                    15.0                  54.0  0.99700  3.26       0.65   \n",
       "3                    17.0                  60.0  0.99800  3.16       0.58   \n",
       "4                    13.0                  40.0  0.99780  3.51       0.56   \n",
       "...                   ...                   ...      ...   ...        ...   \n",
       "1354                 28.0                  38.0  0.99651  3.42       0.82   \n",
       "1355                 32.0                  44.0  0.99490  3.45       0.58   \n",
       "1356                 39.0                  51.0  0.99512  3.52       0.76   \n",
       "1357                 32.0                  44.0  0.99547  3.57       0.71   \n",
       "1358                 18.0                  42.0  0.99549  3.39       0.66   \n",
       "\n",
       "      alcohol  quality  \n",
       "0         9.4        5  \n",
       "1         9.8        5  \n",
       "2         9.8        5  \n",
       "3         9.8        6  \n",
       "4         9.4        5  \n",
       "...       ...      ...  \n",
       "1354      9.5        6  \n",
       "1355     10.5        5  \n",
       "1356     11.2        6  \n",
       "1357     10.2        5  \n",
       "1358     11.0        6  \n",
       "\n",
       "[1359 rows x 12 columns]"
      ]
     },
     "execution_count": 3,
     "metadata": {},
     "output_type": "execute_result"
    }
   ],
   "source": [
    "combined_file_path = '../data/cleaned/winequality_combined_cleaned.csv' \n",
    "red_file_path = '../data/cleaned/winequality_red_cleaned.csv'\n",
    "white_file_path = '../data/cleaned/winequality_white_cleaned.csv'\n",
    "combined_df = pd.read_csv(combined_file_path)\n",
    "red_df = pd.read_csv(red_file_path, index_col=0)\n",
    "white_df = pd.read_csv(white_file_path, index_col=0)\n",
    "red_df"
   ]
  },
  {
   "cell_type": "markdown",
   "id": "f304e8ee",
   "metadata": {},
   "source": [
    "Wine acidity in g/l:\n",
    "6.2\n",
    "\n",
    "Residual sugar (approx.) in g/l:\n",
    "12.4\n",
    "\n",
    "Alcohol % ABV:\n",
    "9.5\n"
   ]
  },
  {
   "cell_type": "code",
   "execution_count": 11,
   "id": "463891f2",
   "metadata": {},
   "outputs": [
    {
     "data": {
      "text/html": [
       "<div>\n",
       "<style scoped>\n",
       "    .dataframe tbody tr th:only-of-type {\n",
       "        vertical-align: middle;\n",
       "    }\n",
       "\n",
       "    .dataframe tbody tr th {\n",
       "        vertical-align: top;\n",
       "    }\n",
       "\n",
       "    .dataframe thead th {\n",
       "        text-align: right;\n",
       "    }\n",
       "</style>\n",
       "<table border=\"1\" class=\"dataframe\">\n",
       "  <thead>\n",
       "    <tr style=\"text-align: right;\">\n",
       "      <th></th>\n",
       "      <th>fixed_acidity</th>\n",
       "      <th>volatile_acidity</th>\n",
       "      <th>citric_acid</th>\n",
       "      <th>residual_sugar</th>\n",
       "      <th>chlorides</th>\n",
       "      <th>free_sulfur_dioxide</th>\n",
       "      <th>total_sulfur_dioxide</th>\n",
       "      <th>density</th>\n",
       "      <th>pH</th>\n",
       "      <th>sulphates</th>\n",
       "      <th>alcohol</th>\n",
       "      <th>quality</th>\n",
       "    </tr>\n",
       "  </thead>\n",
       "  <tbody>\n",
       "    <tr>\n",
       "      <th>3131</th>\n",
       "      <td>6.2</td>\n",
       "      <td>0.22</td>\n",
       "      <td>0.3</td>\n",
       "      <td>12.4</td>\n",
       "      <td>0.054</td>\n",
       "      <td>108.0</td>\n",
       "      <td>152.0</td>\n",
       "      <td>0.99728</td>\n",
       "      <td>3.1</td>\n",
       "      <td>0.47</td>\n",
       "      <td>9.5</td>\n",
       "      <td>6</td>\n",
       "    </tr>\n",
       "  </tbody>\n",
       "</table>\n",
       "</div>"
      ],
      "text/plain": [
       "      fixed_acidity  volatile_acidity  citric_acid  residual_sugar  chlorides  \\\n",
       "3131            6.2              0.22          0.3            12.4      0.054   \n",
       "\n",
       "      free_sulfur_dioxide  total_sulfur_dioxide  density   pH  sulphates  \\\n",
       "3131                108.0                 152.0  0.99728  3.1       0.47   \n",
       "\n",
       "      alcohol  quality  \n",
       "3131      9.5        6  "
      ]
     },
     "execution_count": 11,
     "metadata": {},
     "output_type": "execute_result"
    }
   ],
   "source": [
    "alcohol_filtered_df = white_df[white_df['alcohol'] == 9.5]\n",
    "sugar_filtered_df = alcohol_filtered_df[alcohol_filtered_df['residual_sugar'] == 12.4]\n",
    "acidity_filtered_df = sugar_filtered_df[sugar_filtered_df['fixed_acidity'] == 6.2]\n",
    "acidity_filtered_df"
   ]
  },
  {
   "cell_type": "code",
   "execution_count": null,
   "id": "8ba00b9f",
   "metadata": {},
   "outputs": [],
   "source": [
    "def linear_regression(X_train, X_test, y_train, y_test):\n",
    "    # Linear regression\n",
    "    lm = LinearRegression()\n",
    "    model = lm.fit(X_train, y_train)\n",
    "    print(f'model coefficients:\\n {model.coef_}\\n')\n",
    "    print(f'model intercept:\\n {model.intercept_}\\n')\n",
    "    \n",
    "    # Applying model to X test\n",
    "    y_pred = model.predict(X_test)\n",
    "    \n",
    "    # Ensure y_test is in the correct format (pandas Series or 1D numpy array)\n",
    "    if isinstance(y_test, pd.Series):\n",
    "        y_test_reset = y_test.reset_index(drop=True)\n",
    "    else:\n",
    "        y_test_reset = y_test  # Assuming y_test is already a numpy array\n",
    "    \n",
    "    # Creating combined table with y_test and y_pred\n",
    "    # Check if y_test_reset is a pandas Series and convert y_pred to a similar type\n",
    "    if isinstance(y_test_reset, pd.Series):\n",
    "        y_pred_series = pd.Series(y_pred, index=y_test_reset.index, name='y_pred')\n",
    "        residuals_df = pd.concat([y_test_reset, y_pred_series], axis=1)\n",
    "    else:\n",
    "        # If inputs are numpy arrays, stack them horizontally\n",
    "        residuals_df = np.column_stack((y_test_reset, y_pred))\n",
    "        # Convert to DataFrame for easier manipulation later on\n",
    "        residuals_df = pd.DataFrame(residuals_df, columns=[\"y_test\", \"y_pred\"])\n",
    "    \n",
    "    # Calculating residuals\n",
    "    residuals_df[\"residual\"] = residuals_df[\"y_test\"] - residuals_df[\"y_pred\"]\n",
    "    print(f'Residuals:\\n {residuals_df}\\n')\n",
    "\n",
    "    # Root mean squared error\n",
    "    rmse = mse(y_test_reset, residuals_df[\"y_pred\"], squared=False)\n",
    "    print(f'Root mean squared error: {rmse} \\n')\n",
    "\n",
    "    # R^2\n",
    "    r2 = r2_score(y_test_reset, residuals_df[\"y_pred\"])\n",
    "    print(f'R2: {r2} \\n')\n",
    "\n",
    "    # Calculating adjusted R^2\n",
    "    n = X_train.shape[0]  # Number of observations in the training set\n",
    "    p = X_train.shape[1]  # Number of features used for training\n",
    "    adjusted_r2 = 1 - (1 - r2) * (n - 1) / (n - p - 1)\n",
    "    print(f'Adjusted R2: {adjusted_r2} \\n')\n",
    "\n",
    "    return model.coef_\n",
    "\n",
    "\n",
    "import pandas as pd\n",
    "from sklearn.metrics import mean_squared_error as mse\n",
    "from sklearn.metrics import mean_absolute_error as mae\n",
    "from sklearn.metrics import r2_score\n",
    "\n",
    "\n",
    "\n",
    "def evaluate_model_performance(y_test, y_pred, X_train):\n",
    "    \"\"\"\n",
    "    Evaluates the performance of a regression model by calculating and printing\n",
    "    the ME, MAE, MSE, RMSE, R^2, and adjusted R^2.\n",
    "\n",
    "    Parameters:\n",
    "    - y_test: pandas Series or DataFrame, actual target values.\n",
    "    - y_pred: array-like or pandas Series, predicted target values.\n",
    "    - X_train: pandas DataFrame, feature set used for training the model.\n",
    "\n",
    "    Returns:\n",
    "    - Prints the ME, MAE, MSE, RMSE, R^2, and adjusted R^2 of the model.\n",
    "    \"\"\"\n",
    "    # Ensure y_pred is a DataFrame with appropriate column name\n",
    "    if not isinstance(y_pred, pd.DataFrame):\n",
    "        y_pred = pd.DataFrame(y_pred, columns=[\"y_pred\"])\n",
    "    else:\n",
    "        y_pred = y_pred.rename(columns={y_pred.columns[0]: \"y_pred\"})\n",
    "\n",
    "    # Reset index and rename y_test for consistency\n",
    "    if isinstance(y_test, pd.Series):\n",
    "        y_test = y_test.reset_index(drop=True).rename(\"y_test\")\n",
    "    elif isinstance(y_test, pd.DataFrame):\n",
    "        y_test = y_test.reset_index(drop=True)\n",
    "        y_test.columns = [\"y_test\"]\n",
    "\n",
    "    # Concatenate actual and predicted values and calculate residuals\n",
    "    residuals_df = pd.concat([y_test, y_pred], axis=1)\n",
    "    residuals_df[\"residual\"] = residuals_df[\"y_test\"] - residuals_df[\"y_pred\"]\n",
    "\n",
    "    # Calculate Mean Error (ME)\n",
    "    me = residuals_df[\"residual\"].mean()\n",
    "    print(f'Mean Error (ME): {me:.4f}')\n",
    "\n",
    "    # Calculate Mean Absolute Error (MAE)\n",
    "    mae_value = mae(residuals_df[\"y_test\"], residuals_df[\"y_pred\"])\n",
    "    print(f'Mean Absolute Error (MAE): {mae_value:.4f}')\n",
    "\n",
    "    # Calculate Mean Squared Error (MSE)\n",
    "    mse_value = mse(residuals_df[\"y_test\"], residuals_df[\"y_pred\"])\n",
    "    print(f'Mean Squared Error (MSE): {mse_value:.4f}')\n",
    "\n",
    "    # Calculate Root Mean Squared Error (RMSE)\n",
    "    rmse = mse(residuals_df[\"y_test\"], residuals_df[\"y_pred\"], squared=False)\n",
    "    print(f'Root Mean Squared Error (RMSE): {rmse:.4f}')\n",
    "\n",
    "    # Calculate R^2\n",
    "    r2 = r2_score(residuals_df[\"y_test\"], residuals_df[\"y_pred\"])\n",
    "    print(f'R²: {r2:.4f}')\n",
    "\n",
    "    # Calculate Adjusted R^2\n",
    "    n = X_train.shape[0]  # Number of observations\n",
    "    p = X_train.shape[1]  # Number of features\n",
    "    adjusted_r2 = 1 - (1 - r2) * (n - 1) / (n - p - 1)\n",
    "    print(f'Adjusted R²: {adjusted_r2:.4f}')\n",
    "\n"
   ]
  },
  {
   "cell_type": "markdown",
   "id": "085d6085",
   "metadata": {},
   "source": [
    "## Correlations"
   ]
  },
  {
   "cell_type": "code",
   "execution_count": null,
   "id": "680e26ac",
   "metadata": {},
   "outputs": [],
   "source": [
    "#Red_wine\n",
    "corr_matrix_red = red_df.corr()\n",
    "plt.figure(figsize=(10, 6)) \n",
    "sns.heatmap(corr_matrix_red, annot=True, cmap='coolwarm', fmt=\".2f\", linewidths=.05, cbar_kws={'shrink': .8})\n",
    "plt.title('Correlation Heatmap')  \n",
    "plt.show()\n"
   ]
  },
  {
   "cell_type": "markdown",
   "id": "77a9de9d",
   "metadata": {},
   "source": [
    "## IQR Method to handle Outliers"
   ]
  },
  {
   "cell_type": "code",
   "execution_count": null,
   "id": "b0e26d75",
   "metadata": {},
   "outputs": [],
   "source": [
    "def outlier_thresholds(dataframe, variable):\n",
    "    quartile1 = dataframe[variable].quantile(0.25)\n",
    "    quartile3 = dataframe[variable].quantile(0.75)\n",
    "    interquantile_range = quartile3 - quartile1\n",
    "    up_limit = quartile3 + 1.5 * interquantile_range\n",
    "    low_limit = quartile1 - 1.5 * interquantile_range\n",
    "    return low_limit, up_limit\n",
    "\n",
    "def replace_with_thresholds(dataframe, variable):\n",
    "    low_limit, up_limit = outlier_thresholds(dataframe, variable)\n",
    "    dataframe.loc[(dataframe[variable] < low_limit), variable] = round(low_limit,5)\n",
    "    dataframe.loc[(dataframe[variable] > up_limit), variable] = round(up_limit,5)\n",
    "    \n"
   ]
  },
  {
   "cell_type": "code",
   "execution_count": null,
   "id": "709f95cd",
   "metadata": {},
   "outputs": [],
   "source": [
    "red_df.columns"
   ]
  },
  {
   "cell_type": "code",
   "execution_count": null,
   "id": "0a927855",
   "metadata": {},
   "outputs": [],
   "source": [
    "columns_gpt = ['fixed_acidity', 'volatile_acidity', 'citric_acid', 'residual_sugar',\n",
    "       'chlorides', 'free_sulfur_dioxide', 'total_sulfur_dioxide', 'sulphates']# only columns identified as having outliers\n",
    "\n",
    "columns_matthew = ['citric_acid', 'chlorides', 'free_sulfur_dioxide', 'total_sulfur_dioxide', 'pH', 'sulphates']\n",
    "\n",
    "columns_combined = ['fixed_acidity', 'volatile_acidity', 'citric_acid', 'residual_sugar',\n",
    "       'chlorides', 'free_sulfur_dioxide', 'total_sulfur_dioxide', 'pH', 'sulphates']\n",
    "\n",
    "columns_all = ['fixed_acidity', 'volatile_acidity', 'citric_acid', 'residual_sugar',\n",
    "       'chlorides', 'free_sulfur_dioxide', 'total_sulfur_dioxide', 'density',\n",
    "       'pH', 'sulphates', 'alcohol']"
   ]
  },
  {
   "cell_type": "code",
   "execution_count": null,
   "id": "6b0bfb9d",
   "metadata": {},
   "outputs": [],
   "source": [
    "#for col in columns_matthew:\n",
    "   # replace_with_thresholds(red_df, col)"
   ]
  },
  {
   "cell_type": "code",
   "execution_count": null,
   "id": "efc3fad5",
   "metadata": {},
   "outputs": [],
   "source": [
    "print(red_df.head())"
   ]
  },
  {
   "cell_type": "markdown",
   "id": "b6196710",
   "metadata": {},
   "source": [
    "### Distributions"
   ]
  },
  {
   "cell_type": "code",
   "execution_count": null,
   "id": "6e88476d",
   "metadata": {
    "scrolled": true
   },
   "outputs": [],
   "source": [
    "plt.figure(figsize=(15, 15))\n",
    "red_df.hist(bins=15, grid=False, figsize=(20, 20), color='blue', zorder=2, rwidth=0.9)\n",
    "plt.tight_layout()\n",
    "plt.rcParams.update({'font.size': 16})\n",
    "plt.show()"
   ]
  },
  {
   "cell_type": "markdown",
   "id": "44f7627c",
   "metadata": {},
   "source": [
    "### Splitting data into X and y"
   ]
  },
  {
   "cell_type": "markdown",
   "id": "4d620a60",
   "metadata": {},
   "source": [
    "#### Red Wine"
   ]
  },
  {
   "cell_type": "code",
   "execution_count": null,
   "id": "7a93e1cf",
   "metadata": {},
   "outputs": [],
   "source": [
    "X = red_df.drop(['quality', 'free_sulfur_dioxide'], axis=1)\n",
    "#X = pd.DataFrame(red_df[['citric_acid', 'total_sulfur_dioxide', 'density', 'pH', 'residual_sugar', 'chlorides', 'sulphates', 'alcohol']])\n",
    "y = pd.DataFrame(red_df[\"quality\"])\n",
    "\n",
    "X_train, X_test, y_train, y_test = train_test_split(X,y, random_state = 42)"
   ]
  },
  {
   "cell_type": "markdown",
   "id": "7334bbfd",
   "metadata": {},
   "source": [
    "#### White Wine"
   ]
  },
  {
   "cell_type": "code",
   "execution_count": null,
   "id": "f23aeb3c",
   "metadata": {},
   "outputs": [],
   "source": []
  },
  {
   "cell_type": "markdown",
   "id": "336a0817",
   "metadata": {},
   "source": [
    "## Applying Scalers and Transforms"
   ]
  },
  {
   "cell_type": "markdown",
   "id": "2d6e20f7",
   "metadata": {},
   "source": [
    "### PowerTransformer on X"
   ]
  },
  {
   "cell_type": "code",
   "execution_count": null,
   "id": "c434b80b",
   "metadata": {},
   "outputs": [],
   "source": [
    "pt = PowerTransformer(method='yeo-johnson')\n",
    "pt.fit(X_train)\n",
    "X_train_p = pd.DataFrame(pt.transform(X_train))\n",
    "X_test_p= pd.DataFrame(pt.transform(X_test))\n"
   ]
  },
  {
   "cell_type": "markdown",
   "id": "ef19d58d",
   "metadata": {},
   "source": [
    "### PowerTransformer on y"
   ]
  },
  {
   "cell_type": "code",
   "execution_count": null,
   "id": "e4a60bbd",
   "metadata": {},
   "outputs": [],
   "source": [
    "pt_y = PowerTransformer(method='yeo-johnson')\n",
    "pt_y.fit(y_train)\n",
    "y_train_p = pt_y.transform(y_train)\n",
    "y_test_p = pt_y.transform(y_test)\n"
   ]
  },
  {
   "cell_type": "markdown",
   "id": "743c1ce3",
   "metadata": {},
   "source": [
    "### MinMax Scaler on X"
   ]
  },
  {
   "cell_type": "code",
   "execution_count": null,
   "id": "a3f60740",
   "metadata": {},
   "outputs": [],
   "source": [
    "scaler_mm_x = MinMaxScaler()\n",
    "scaler_mm_x.fit(X_train)\n",
    "X_train_mm = scaler_mm_x.transform(X_train)\n",
    "X_test_mm = scaler_mm_x.transform(X_test)"
   ]
  },
  {
   "cell_type": "markdown",
   "id": "3e926c00",
   "metadata": {},
   "source": [
    "### MinMax Scaler on y"
   ]
  },
  {
   "cell_type": "code",
   "execution_count": null,
   "id": "62159bd9",
   "metadata": {},
   "outputs": [],
   "source": [
    "scaler_mm_y = MinMaxScaler()\n",
    "scaler_mm_y.fit(y_train)\n",
    "y_train_mm = scaler_mm_y.transform(y_train)\n",
    "y_test_mm = scaler_mm_y.transform(y_test)"
   ]
  },
  {
   "cell_type": "markdown",
   "id": "ce19f631",
   "metadata": {},
   "source": [
    "### Standard Scaler on X"
   ]
  },
  {
   "cell_type": "code",
   "execution_count": null,
   "id": "d77f98d1",
   "metadata": {},
   "outputs": [],
   "source": [
    "scaler_s_x = StandardScaler()\n",
    "scaler_s_x.fit(X_train)\n",
    "X_train_s = scaler_s_x.transform(X_train)\n",
    "X_test_s = scaler_s_x.transform(X_test)"
   ]
  },
  {
   "cell_type": "markdown",
   "id": "20758a75",
   "metadata": {},
   "source": [
    "### Standard Scaler on y"
   ]
  },
  {
   "cell_type": "code",
   "execution_count": null,
   "id": "e729e57d",
   "metadata": {},
   "outputs": [],
   "source": [
    "scaler_s_y = StandardScaler()\n",
    "scaler_s_y.fit(y_train)\n",
    "y_train_s = scaler_s_y.transform(y_train)\n",
    "y_test_s = scaler_s_y.transform(y_test)"
   ]
  },
  {
   "cell_type": "markdown",
   "id": "92a29203",
   "metadata": {},
   "source": [
    "## Linear Regression Model "
   ]
  },
  {
   "cell_type": "code",
   "execution_count": null,
   "id": "65c21d4d",
   "metadata": {},
   "outputs": [],
   "source": [
    "# Linear regression\n",
    "lm = LinearRegression()\n",
    "model = lm.fit(X_train_s, y_train)\n",
    "print(f'model coefficients:\\n {model.coef_}\\n')\n",
    "print(f'model intercept:\\n {model.intercept_}\\n')\n",
    "\n",
    "# Applying model to X test\n",
    "y_pred = model.predict(X_test_s)\n",
    "#y_pred = pd.DataFrame(scaler_s_y.inverse_transform(y_pred)) # inversing y\n",
    "y_pred = pd.DataFrame(y_pred)\n",
    "\n",
    "y_pred = y_pred.rename(columns = {0:\"y_pred\"})\n",
    "\n",
    "y_test = y_test.reset_index(drop=True)\n",
    "y_test = y_test.rename(columns = {\"quality\":\"y_test\"})\n",
    "\n",
    "residuals_df = pd.concat([y_test,y_pred], axis = 1)\n",
    "residuals_df[\"residual\"] = residuals_df[\"y_test\"] - residuals_df[\"y_pred\"]\n",
    "\n",
    "\n",
    "# Root mean squared error\n",
    "rmse = mse(y_test, residuals_df[\"y_pred\"], squared=False)\n",
    "print(f'Root mean squared error: {rmse} \\n')\n",
    "\n",
    "# R^2\n",
    "r2 = r2_score(y_test, residuals_df[\"y_pred\"])\n",
    "print(f'R2: {r2} \\n')\n",
    "\n",
    "# Calculating adjusted R^2\n",
    "n = X_train.shape[0]  # Number of observations in the training set\n",
    "p = X_train.shape[1]  # Number of features used for training\n",
    "adjusted_r2 = 1 - (1 - r2) * (n - 1) / (n - p - 1)\n",
    "print(f'Adjusted R2: {adjusted_r2} \\n')\n",
    "\n",
    "residuals_df"
   ]
  },
  {
   "cell_type": "code",
   "execution_count": null,
   "id": "0a1664b8",
   "metadata": {},
   "outputs": [],
   "source": [
    "residuals_df[\"residual\"].mean()"
   ]
  },
  {
   "cell_type": "code",
   "execution_count": null,
   "id": "f357708d",
   "metadata": {},
   "outputs": [],
   "source": [
    "mse = mse(y_test,residuals_df[\"y_pred\"])\n",
    "mse\n"
   ]
  },
  {
   "cell_type": "code",
   "execution_count": null,
   "id": "152db410",
   "metadata": {},
   "outputs": [],
   "source": [
    "mae = mae(y_test,residuals_df[\"y_pred\"])\n",
    "mae"
   ]
  },
  {
   "cell_type": "markdown",
   "id": "5e393700",
   "metadata": {},
   "source": [
    "## Check for overfitting/underfitting"
   ]
  },
  {
   "cell_type": "code",
   "execution_count": null,
   "id": "3f2a3f82",
   "metadata": {},
   "outputs": [],
   "source": [
    "### Computing R2_scores for train_set\n",
    "\n",
    "y_pred_train = pd.DataFrame(model.predict(X_train_s))\n",
    "\n",
    "r2_train = r2_score(y_train,y_pred_train)\n",
    "print(f'R2: {r2_train} \\n')\n",
    "\n",
    "# Calculating adjusted R^2\n",
    "n = X_train.shape[0]  # Number of observations in the training set\n",
    "p = X_train.shape[1]  # Number of features used for training\n",
    "adjusted_r2_train = 1 - (1 - r2_train) * (n - 1) / (n - p - 1)\n",
    "print(f'Adjusted R2: {adjusted_r2_train} \\n')"
   ]
  },
  {
   "cell_type": "markdown",
   "id": "3b2af51f",
   "metadata": {},
   "source": [
    "## Feature Importance"
   ]
  },
  {
   "cell_type": "code",
   "execution_count": null,
   "id": "d636f327",
   "metadata": {},
   "outputs": [],
   "source": [
    "#getting feature names and coefficients\n",
    "feature_names = list(X_train.columns)\n",
    "coefficients = model.coef_\n",
    "coefficients = [i for i in coefficients[0]]\n",
    "\n",
    "#creating feature importance dataframe\n",
    "fi_dict = {\"name\":feature_names,\"coeff\":coefficients}\n",
    "fi_df = pd.DataFrame(fi_dict)\n",
    "fi_df = fi_df.sort_values('coeff', ascending=False)\n",
    "\n"
   ]
  },
  {
   "cell_type": "code",
   "execution_count": null,
   "id": "37f9dad2",
   "metadata": {},
   "outputs": [],
   "source": [
    "#Feature importance plot for standardized data\n",
    "plt.figure(figsize=(11, 8))\n",
    "sns.set_style(\"darkgrid\")\n",
    "sns.barplot(y=\"name\", x=\"coeff\", data=fi_df)\n",
    "plt.xlabel(\"Coefficient\")\n",
    "plt.ylabel(\"Feature\")\n",
    "plt.title(\"Feature Importance\")\n",
    "plt.grid()\n",
    "plt.xticks()\n",
    "plt.yticks(fontsize='small')\n",
    "plt.show()"
   ]
  },
  {
   "cell_type": "markdown",
   "id": "1ab90695",
   "metadata": {},
   "source": [
    "## Experiments "
   ]
  },
  {
   "cell_type": "markdown",
   "id": "9f12a781",
   "metadata": {},
   "source": [
    "## Recursive Feature Elimination (RFE)"
   ]
  },
  {
   "cell_type": "raw",
   "id": "005b8d31",
   "metadata": {},
   "source": [
    "from sklearn.feature_selection import RFECV\n",
    "\n",
    "# Create a new instance of RFECV with the linear regression estimator\n",
    "rfecv = RFECV(estimator=LinearRegression(), step=1, cv=5, scoring='neg_mean_squared_error')\n",
    "\n",
    "# Fit RFECV to the scaled training data\n",
    "rfecv.fit(X_train_p, y_train)\n",
    "\n",
    "# Transform the training and testing sets using the selected features\n",
    "X_train_selected = rfecv.transform(X_train_p)\n",
    "X_test_selected = rfecv.transform(X_test_p)\n",
    "\n",
    "# Train a new model on the selected features\n",
    "model_selected = LinearRegression()\n",
    "model_selected.fit(X_train_selected, y_train)\n",
    "\n",
    "# Predict the quality on the testing set with selected features\n",
    "y_pred_selected = model_selected.predict(X_test_selected)\n",
    "\n",
    "# Calculate the performance metrics for the model with selected features\n",
    "mse_selected = mse(y_test, y_pred_selected)\n",
    "\n",
    "# Number of features selected\n",
    "n_features_selected = rfecv.n_features_\n",
    "\n",
    "# Root mean squared error\n",
    "rmse_selected = mse(y_test, y_pred_selected, squared=False)\n",
    "print(f'Root mean squared error: {rmse} \\n')\n",
    "\n",
    "r2_selected = r2_score(y_test, y_pred_selected)\n",
    "print(f'R2: {r2_selected} \\n')\n",
    "\n",
    "# Calculating adjusted R^2\n",
    "n_sel = X_train.shape[0]  # Number of observations in the training set\n",
    "p_sel = n_features_selected  # Number of features used for training\n",
    "adjusted_r2_selected = 1 - (1 - r2_selected) * (n_sel - 1) / (n_sel - p_sel - 1)\n",
    "print(f'Adjusted R2: {adjusted_r2_selected} \\n')\n",
    "\n",
    "mse_selected, r2_selected, n_features_selected\n",
    "\n",
    "\n"
   ]
  },
  {
   "cell_type": "markdown",
   "id": "44571e51",
   "metadata": {},
   "source": [
    "## Pipeline"
   ]
  },
  {
   "cell_type": "markdown",
   "id": "66ec5510",
   "metadata": {},
   "source": [
    "### Defining functions and pipeline"
   ]
  },
  {
   "cell_type": "code",
   "execution_count": null,
   "id": "92c52461",
   "metadata": {},
   "outputs": [],
   "source": [
    "import pandas as pd\n",
    "from sklearn.model_selection import train_test_split\n",
    "from sklearn.compose import ColumnTransformer\n",
    "from sklearn.pipeline import Pipeline\n",
    "from sklearn.preprocessing import FunctionTransformer\n",
    "from sklearn.preprocessing import StandardScaler\n",
    "\n",
    "\n",
    "\n",
    "# Function to handle outliers\n",
    "def handle_outliers(dataframe, variable):\n",
    "    quartile1 = dataframe[variable].quantile(0.25)\n",
    "    quartile3 = dataframe[variable].quantile(0.75)\n",
    "    interquantile_range = quartile3 - quartile1\n",
    "    up_limit = quartile3 + 1.5 * interquantile_range\n",
    "    low_limit = quartile1 - 1.5 * interquantile_range\n",
    "    dataframe.loc[(dataframe[variable] < low_limit), variable] = round(low_limit, 5)\n",
    "    dataframe.loc[(dataframe[variable] > up_limit), variable] = round(up_limit, 5)\n",
    "    return dataframe\n",
    "\n",
    "# Apply outlier handling to specific columns\n",
    "def apply_outlier_thresholds(dataframe):\n",
    "    # Update this list to include only the columns that need outlier treatment\n",
    "    columns_to_treat = ['citric_acid', 'chlorides', 'total_sulfur_dioxide', 'pH', 'sulphates']\n",
    "    for col in columns_to_treat:\n",
    "        dataframe = handle_outliers(dataframe, col)\n",
    "    return dataframe\n",
    "\n",
    "# Create a FunctionTransformer to integrate the outlier function into the pipeline\n",
    "outlier_transformer = FunctionTransformer(apply_outlier_thresholds)\n",
    "\n",
    "# Define the ColumnTransformer to apply scaling only to the selected features\n",
    "preprocessor = ColumnTransformer(\n",
    "    transformers=[\n",
    "        ('num', StandardScaler(), selected_features)  # Apply standard scaling to selected features\n",
    "    ],\n",
    "    remainder='drop'  # Drop other columns that are not listed in selected_features\n",
    ")\n",
    "\n",
    "# Create the preprocessing pipeline with outlier handling and scaling\n",
    "preprocessing_pipeline = Pipeline(steps=[\n",
    "    ('outliers', outlier_transformer),  # First step is to apply the outlier_transformer\n",
    "    ('preprocessor', preprocessor),      # Next, apply the preprocessor defined above\n",
    "])\n",
    "\n",
    "\n"
   ]
  },
  {
   "cell_type": "markdown",
   "id": "c4d26265",
   "metadata": {},
   "source": [
    "### Applying pipeline to red_wine to validate the pipeline functions correctly"
   ]
  },
  {
   "cell_type": "code",
   "execution_count": null,
   "id": "f3326335",
   "metadata": {},
   "outputs": [],
   "source": [
    "# Now apply the pipeline to the DataFrame\n",
    "# Here we assume red_df is already loaded and contains the column 'quality'\n",
    "X_red = red_df.drop(['quality'], axis=1)  # Drop the target variable to isolate features\n",
    "y_red = red_df['quality']                 # Isolate the target variable\n",
    "\n",
    "# Define the columns we want to keep and preprocess\n",
    "selected_features = [\n",
    "    'fixed_acidity', 'volatile_acidity', 'citric_acid', 'residual_sugar',\n",
    "    'chlorides', 'total_sulfur_dioxide', 'density', 'pH', 'sulphates', 'alcohol'\n",
    "]\n",
    "\n",
    "# Apply the pipeline to the features\n",
    "red_processed = preprocessing_pipeline.fit_transform(red_df)\n",
    "\n",
    "# Convert the processed features into a DataFrame\n",
    "# Note: We need to be careful here because pipeline transformations can return a NumPy array\n",
    "red_processed_df = pd.DataFrame(red_processed, columns=selected_features)\n",
    "\n",
    "X_train, X_test, y_train, y_test = train_test_split(red_processed_df, y, random_state=42)\n",
    "\n",
    "y_red_pred = model.predict(X_test)\n",
    "\n",
    "X_test"
   ]
  },
  {
   "cell_type": "code",
   "execution_count": null,
   "id": "16f7da5e",
   "metadata": {},
   "outputs": [],
   "source": [
    "evaluate_model_performance(y_test, y_red_pred, X_train)"
   ]
  },
  {
   "cell_type": "markdown",
   "id": "7c186069",
   "metadata": {},
   "source": [
    "## Testing red wine model on white wine data"
   ]
  },
  {
   "cell_type": "code",
   "execution_count": null,
   "id": "97628b23",
   "metadata": {},
   "outputs": [],
   "source": [
    "# Now apply the pipeline to the DataFrame\n",
    "# Here we assume red_df is already loaded and contains the column 'quality'\n",
    "X_white = white_df.drop(['quality'], axis=1)  # Drop the target variable to isolate features\n",
    "y_white = white_df['quality']                 # Isolate the target variable\n",
    "\n",
    "# Define the columns we want to keep and preprocess\n",
    "selected_features = [\n",
    "    'fixed_acidity', 'volatile_acidity', 'citric_acid', 'residual_sugar',\n",
    "    'chlorides', 'total_sulfur_dioxide', 'density', 'pH', 'sulphates', 'alcohol'\n",
    "]\n",
    "\n",
    "# Apply the pipeline to the features\n",
    "X_processed_white = pipeline.fit_transform(X_white)\n",
    "\n",
    "# Convert the processed features into a DataFrame\n",
    "# Note: We need to be careful here because pipeline transformations can return a NumPy array\n",
    "X_processed_df = pd.DataFrame(X_processed_white, columns=selected_features)\n",
    "\n",
    "y_white_pred = model.predict(X_processed_df)"
   ]
  },
  {
   "cell_type": "code",
   "execution_count": null,
   "id": "0c5ce0f3",
   "metadata": {},
   "outputs": [],
   "source": [
    "# Example usage:\n",
    "# Assume y_test, y_pred, and X_train are already defined\n",
    "evaluate_model_performance(y_white, y_white_pred, X_processed_white)\n"
   ]
  },
  {
   "cell_type": "markdown",
   "id": "448bc288",
   "metadata": {},
   "source": [
    "### Saving model and preprocessing pipeline"
   ]
  },
  {
   "cell_type": "code",
   "execution_count": null,
   "id": "d2441d04",
   "metadata": {},
   "outputs": [],
   "source": [
    "from joblib import dump\n",
    "\n",
    "#saving model to our repo\n",
    "dump(model, 'wine_quality_predictor_model.joblib')\n",
    "\n",
    "#saving preprocessing pipeline to our repo\n",
    "dump(preprocessing_pipeline, 'preprocessing_pipeline.joblib')"
   ]
  },
  {
   "cell_type": "markdown",
   "id": "64096dc1",
   "metadata": {},
   "source": [
    "### CSV export"
   ]
  },
  {
   "cell_type": "code",
   "execution_count": null,
   "id": "2427e541",
   "metadata": {},
   "outputs": [],
   "source": [
    "residuals_df.to_csv('../data/analysis/winequality_model_residuals.csv',index=False)"
   ]
  }
 ],
 "metadata": {
  "kernelspec": {
   "display_name": "Python 3 (ipykernel)",
   "language": "python",
   "name": "python3"
  },
  "language_info": {
   "codemirror_mode": {
    "name": "ipython",
    "version": 3
   },
   "file_extension": ".py",
   "mimetype": "text/x-python",
   "name": "python",
   "nbconvert_exporter": "python",
   "pygments_lexer": "ipython3",
   "version": "3.11.5"
  }
 },
 "nbformat": 4,
 "nbformat_minor": 5
}
