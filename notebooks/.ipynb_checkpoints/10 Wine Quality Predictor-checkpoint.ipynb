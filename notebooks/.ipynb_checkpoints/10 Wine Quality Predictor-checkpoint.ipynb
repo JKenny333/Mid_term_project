{
 "cells": [
  {
   "cell_type": "markdown",
   "id": "bbe86087",
   "metadata": {},
   "source": [
    "==============================================================================================================="
   ]
  },
  {
   "cell_type": "markdown",
   "id": "71084684",
   "metadata": {},
   "source": [
    "<div style=\"margin-left: -60px;\">\n",
    "    <img src=\"../images/logos/vinometrics_logo.jpg\" width=\"300\" height=\"200\" />\n",
    "</div>\n"
   ]
  },
  {
   "cell_type": "markdown",
   "id": "66d8599f",
   "metadata": {},
   "source": [
    "<div style=\"text-align: center;\">\n",
    "    <h1 style=\"font-size: 32px; color: #2E86C1;\">Wine Quality Predictor</h1>\n",
    "</div>\n"
   ]
  },
  {
   "cell_type": "markdown",
   "id": "f3346229",
   "metadata": {},
   "source": [
    "===============================================================================================================\n",
    "\n",
    "To predict wine quality, run the function below:"
   ]
  },
  {
   "cell_type": "code",
   "execution_count": null,
   "id": "f2217f19",
   "metadata": {
    "scrolled": false
   },
   "outputs": [],
   "source": [
    "predict_wine_quality(trained_wine_model, preprocessing_pipeline)"
   ]
  },
  {
   "cell_type": "markdown",
   "id": "19747195",
   "metadata": {},
   "source": [
    "==============================================================================================================="
   ]
  },
  {
   "cell_type": "markdown",
   "id": "30d6d4ca",
   "metadata": {},
   "source": [
    "###  Casal Garcia Vinho Verde feature values"
   ]
  },
  {
   "cell_type": "code",
   "execution_count": null,
   "id": "5f1059b4",
   "metadata": {},
   "outputs": [],
   "source": [
    "casal_garcia_white_x"
   ]
  },
  {
   "cell_type": "markdown",
   "id": "dde04dbf",
   "metadata": {},
   "source": [
    "### Expert quality rating"
   ]
  },
  {
   "cell_type": "code",
   "execution_count": null,
   "id": "5039c78f",
   "metadata": {
    "scrolled": false
   },
   "outputs": [],
   "source": [
    "casal_garcia_white_y"
   ]
  },
  {
   "cell_type": "markdown",
   "id": "25916524",
   "metadata": {},
   "source": [
    "==============================================================================================================="
   ]
  },
  {
   "cell_type": "code",
   "execution_count": null,
   "id": "2c85a4a0",
   "metadata": {},
   "outputs": [],
   "source": [
    " X_test.head()"
   ]
  },
  {
   "cell_type": "code",
   "execution_count": null,
   "id": "445c8d90",
   "metadata": {},
   "outputs": [],
   "source": [
    "y_test.head()"
   ]
  },
  {
   "cell_type": "markdown",
   "id": "3f03bd41",
   "metadata": {},
   "source": [
    "### Set up (run first)"
   ]
  },
  {
   "cell_type": "markdown",
   "id": "58e87ed7",
   "metadata": {},
   "source": [
    "#### Importing Functions and Libraries"
   ]
  },
  {
   "cell_type": "code",
   "execution_count": null,
   "id": "c2b1e523",
   "metadata": {},
   "outputs": [],
   "source": [
    "import pandas as pd\n",
    "import numpy as np\n",
    "from joblib import load\n",
    "from sklearn.model_selection import train_test_split\n",
    "import importlib\n",
    "\n",
    "#Importing our own functions from our repo\n",
    "import functions\n",
    "importlib.reload(functions)\n",
    "\n",
    "from functions import handle_outliers, apply_outlier_thresholds, predict_wine_quality"
   ]
  },
  {
   "cell_type": "markdown",
   "id": "bd3f9c68",
   "metadata": {},
   "source": [
    "#### Importing model and preprocessing pipeline"
   ]
  },
  {
   "cell_type": "code",
   "execution_count": null,
   "id": "2ad58cdf",
   "metadata": {},
   "outputs": [],
   "source": [
    "# Loading the model from the repo\n",
    "trained_wine_model = load('wine_quality_predictor_model.joblib')\n",
    "# Loading the preprocessing pipeline from the repo\n",
    "preprocessing_pipeline = load('preprocessing_pipeline.joblib')"
   ]
  },
  {
   "cell_type": "markdown",
   "id": "57a52ae9",
   "metadata": {},
   "source": [
    "#### Importing test data"
   ]
  },
  {
   "cell_type": "code",
   "execution_count": null,
   "id": "09a8228d",
   "metadata": {},
   "outputs": [],
   "source": [
    "red_file_path = '../data/cleaned/winequality_red_cleaned.csv'\n",
    "white_file_path = '../data/cleaned/winequality_white_cleaned.csv'\n",
    "red_df = pd.read_csv(red_file_path, index_col=0)\n",
    "white_df = pd.read_csv(white_file_path, index_col=0)\n",
    "X = red_df.drop(['quality', 'free_sulfur_dioxide'], axis=1)\n",
    "y = pd.DataFrame(red_df[\"quality\"])\n",
    "X_train, X_test, y_train, y_test = train_test_split(X,y, random_state = 42)"
   ]
  },
  {
   "cell_type": "markdown",
   "id": "6fc20ea5",
   "metadata": {},
   "source": [
    "==============================================================================================================="
   ]
  },
  {
   "cell_type": "markdown",
   "id": "bf18a458",
   "metadata": {},
   "source": [
    "## Identifying Casal Garcia Vinho Verde in anonymous dataset"
   ]
  },
  {
   "cell_type": "markdown",
   "id": "a64828c4",
   "metadata": {},
   "source": [
    "#### Known information"
   ]
  },
  {
   "cell_type": "markdown",
   "id": "e1c1a5cf",
   "metadata": {},
   "source": [
    "Sourced Casal Garcia Vinho Verde information from https://www.vinello.de/en/vinho-verde-casal-garcia\n",
    "\n",
    "Wine acidity in g/l: 6.2\n",
    "\n",
    "Residual sugar (approx.) in g/l: 12.4\n",
    "\n",
    "Alcohol % ABV: 9.5"
   ]
  },
  {
   "cell_type": "code",
   "execution_count": null,
   "id": "3f7ebea3",
   "metadata": {},
   "outputs": [],
   "source": [
    "#Identification of Casal Garcia Vinho Verde through filtering anonymous dataset with known feature values\n",
    "w_alcohol_filtered_df = white_df[white_df['alcohol'] == 9.5]\n",
    "w_sugar_filtered_df = w_alcohol_filtered_df[w_alcohol_filtered_df['residual_sugar'] == 12.4]\n",
    "casal_garcia_white = w_sugar_filtered_df[w_sugar_filtered_df['fixed_acidity'] == 6.2]\n",
    "casal_garcia_white_x = casal_garcia_white.drop(['quality', 'free_sulfur_dioxide'], axis=1)\n",
    "casal_garcia_white_y = y = pd.DataFrame(casal_garcia_white[\"quality\"])\n",
    "expert_quality_score = casal_garcia_white_y.loc[3131, 'quality']"
   ]
  },
  {
   "cell_type": "code",
   "execution_count": null,
   "id": "1ebd3f46",
   "metadata": {},
   "outputs": [],
   "source": []
  }
 ],
 "metadata": {
  "kernelspec": {
   "display_name": "Python 3 (ipykernel)",
   "language": "python",
   "name": "python3"
  },
  "language_info": {
   "codemirror_mode": {
    "name": "ipython",
    "version": 3
   },
   "file_extension": ".py",
   "mimetype": "text/x-python",
   "name": "python",
   "nbconvert_exporter": "python",
   "pygments_lexer": "ipython3",
   "version": "3.11.5"
  }
 },
 "nbformat": 4,
 "nbformat_minor": 5
}
